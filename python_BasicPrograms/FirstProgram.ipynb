{
 "cells": [
  {
   "cell_type": "code",
   "execution_count": null,
   "id": "11807a4c",
   "metadata": {},
   "outputs": [
    {
     "name": "stdout",
     "output_type": "stream",
     "text": [
      "HelloWorld\n"
     ]
    }
   ],
   "source": [
    "print(\"HelloWorld\")\n",
    "#in Python print is the Function"
   ]
  },
  {
   "cell_type": "code",
   "execution_count": null,
   "id": "360a318e",
   "metadata": {},
   "outputs": [
    {
     "name": "stdout",
     "output_type": "stream",
     "text": [
      "My_NameISNoor\n",
      "My Caste Is Rajpar\n"
     ]
    }
   ],
   "source": [
    "print(\"My_NameISNoor\")\n",
    "print(\"My Caste Is Rajpar\")\n",
    "# it will give the output in seprate line\n"
   ]
  },
  {
   "cell_type": "code",
   "execution_count": null,
   "id": "809fc532",
   "metadata": {},
   "outputs": [
    {
     "name": "stdout",
     "output_type": "stream",
     "text": [
      "My name is noor ANd I belong to Rajpar Family\n"
     ]
    }
   ],
   "source": [
    "print(\"My name is noor\",\"ANd I belong to Rajpar Family\")\n",
    "# it will show in one line"
   ]
  },
  {
   "cell_type": "code",
   "execution_count": 4,
   "id": "efa5660f",
   "metadata": {},
   "outputs": [
    {
     "name": "stdout",
     "output_type": "stream",
     "text": [
      "5\n"
     ]
    }
   ],
   "source": [
    "#We can also add the numbers\n",
    "print(3+2)"
   ]
  }
 ],
 "metadata": {
  "kernelspec": {
   "display_name": "Python 3",
   "language": "python",
   "name": "python3"
  },
  "language_info": {
   "codemirror_mode": {
    "name": "ipython",
    "version": 3
   },
   "file_extension": ".py",
   "mimetype": "text/x-python",
   "name": "python",
   "nbconvert_exporter": "python",
   "pygments_lexer": "ipython3",
   "version": "3.10.10"
  }
 },
 "nbformat": 4,
 "nbformat_minor": 5
}
