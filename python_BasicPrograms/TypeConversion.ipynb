{
 "cells": [
  {
   "cell_type": "code",
   "execution_count": 2,
   "id": "93ac8a71",
   "metadata": {},
   "outputs": [
    {
     "name": "stdout",
     "output_type": "stream",
     "text": [
      "4.5\n"
     ]
    }
   ],
   "source": [
    "#Note Float Value is Supirior as compare to int.\n",
    "#Because it store the extra information \n",
    "#Like 2 is int and 2.5 is float \n",
    "# So what python to it can convert int to float example\n",
    "\n",
    "a=2\n",
    "b=2.5\n",
    "sum=a+b\n",
    "print(sum) #here python does implicit conversion"
   ]
  },
  {
   "cell_type": "code",
   "execution_count": 9,
   "id": "cace4b06",
   "metadata": {},
   "outputs": [
    {
     "name": "stdout",
     "output_type": "stream",
     "text": [
      "4\n",
      "<class 'int'>\n",
      "<class 'str'>\n"
     ]
    }
   ],
   "source": [
    "#but if i will try to add String value  number to String\n",
    "a=\"2\"\n",
    "b=2\n",
    "#print(a+b) #it will show the error\n",
    "# so thats the Reason Type Conversion Concept Concpt occur\n",
    "\n",
    "# For Typ we use some function\n",
    "c=int(a)\n",
    "sum1 =b+c\n",
    "print(sum1)\n",
    "\n",
    "\n",
    "# so in general we can also write like this\n",
    "\n",
    "k=int(\"8\")\n",
    "print(type(k))\n",
    "\n",
    "\n",
    "m=str(9)\n",
    "print(type(m))\n"
   ]
  },
  {
   "cell_type": "code",
   "execution_count": null,
   "id": "da30022d",
   "metadata": {},
   "outputs": [],
   "source": []
  },
  {
   "cell_type": "code",
   "execution_count": null,
   "id": "00e27b6b",
   "metadata": {},
   "outputs": [],
   "source": []
  }
 ],
 "metadata": {
  "kernelspec": {
   "display_name": "Python 3",
   "language": "python",
   "name": "python3"
  },
  "language_info": {
   "codemirror_mode": {
    "name": "ipython",
    "version": 3
   },
   "file_extension": ".py",
   "mimetype": "text/x-python",
   "name": "python",
   "nbconvert_exporter": "python",
   "pygments_lexer": "ipython3",
   "version": "3.10.10"
  }
 },
 "nbformat": 4,
 "nbformat_minor": 5
}
