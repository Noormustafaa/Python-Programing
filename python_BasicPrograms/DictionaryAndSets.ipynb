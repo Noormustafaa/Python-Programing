{
 "cells": [
  {
   "cell_type": "code",
   "execution_count": null,
   "id": "7643de30",
   "metadata": {},
   "outputs": [],
   "source": [
    "# Dictionary and sets"
   ]
  },
  {
   "cell_type": "code",
   "execution_count": null,
   "id": "c915597b",
   "metadata": {},
   "outputs": [],
   "source": [
    "# Dictionary are used to store data values in key:value pairs\n",
    "# they are unordered, mutable(changable ) and dont allow duplicate keys"
   ]
  },
  {
   "cell_type": "code",
   "execution_count": 10,
   "id": "4be87b77",
   "metadata": {},
   "outputs": [
    {
     "name": "stdout",
     "output_type": "stream",
     "text": [
      "{'key': 'value', 'name': 'Noor', 'Learning': 'Coding', 'age': 22, 'Subjects': ['English', 'Urdu'], 'LEsson': (1, 2, 3, 5)}\n",
      "<class 'dict'>\n",
      "Noor\n",
      "22\n",
      "MusavirRajpar\n"
     ]
    }
   ],
   "source": [
    "info = {\n",
    "\n",
    "\"key\" : \"value\",\n",
    "\"name\" : \"Noor\",\n",
    "\"Learning\" : \"Coding\",\n",
    "\"age\" :22,\n",
    "\"Subjects\":[\"English\",\"Urdu\"],\n",
    "\"LEsson\": (1,2,3,5)\n",
    "\n",
    "}\n",
    "\n",
    "print(info)\n",
    "print(type(info))\n",
    "\n",
    "# note values can be list  but key you can create either the integer , string or float\n",
    "# normally we make String as a key \n",
    "#There is no order in dict means there is no index in dict\n",
    "#but we can change the values on it .\n",
    "\n",
    "# Lets see how we can acces the element from the dictionary \n",
    "\n",
    "print(info[\"name\"])\n",
    "print(info[\"age\"])\n",
    "\n",
    "\n",
    "# now let's see how we can change the value\n",
    "info[\"name\"]=\"MusavirRajpar\"\n",
    "print(info[\"name\"])\n"
   ]
  },
  {
   "cell_type": "code",
   "execution_count": 21,
   "id": "ca224150",
   "metadata": {},
   "outputs": [],
   "source": [
    "# set in python\n",
    "# Set is the Collection of the unordered items  , unordered means it does not need index\n",
    "#Each element in the set must be unique and immutable\n",
    "#set={1,2,3,4,\"Noor\"}  # in set there is no Key values pair\n",
    "#print(type(set))\n",
    "\n",
    "# if we will write \n",
    "#Collection={} # this is empty dict\n",
    "#print(type(Collection))\n"
   ]
  },
  {
   "cell_type": "code",
   "execution_count": null,
   "id": "c20c2c5c",
   "metadata": {},
   "outputs": [
    {
     "ename": "TypeError",
     "evalue": "'set' object is not callable",
     "output_type": "error",
     "traceback": [
      "\u001b[1;31m---------------------------------------------------------------------------\u001b[0m",
      "\u001b[1;31mTypeError\u001b[0m                                 Traceback (most recent call last)",
      "Cell \u001b[1;32mIn[23], line 2\u001b[0m\n\u001b[0;32m      1\u001b[0m \u001b[38;5;66;03m# so if we have to create the empty set so we have to create the like this \u001b[39;00m\n\u001b[1;32m----> 2\u001b[0m my_set \u001b[38;5;241m=\u001b[39m \u001b[38;5;28;43mset\u001b[39;49m\u001b[43m(\u001b[49m\u001b[43m)\u001b[49m\n\u001b[0;32m      3\u001b[0m \u001b[38;5;28mprint\u001b[39m(\u001b[38;5;28mtype\u001b[39m(my_set))\n",
      "\u001b[1;31mTypeError\u001b[0m: 'set' object is not callable"
     ]
    }
   ],
   "source": [
    "\n",
    "# so if we have to create the empty set so we have to create the like this \n",
    "#my_set = set()\n",
    "#print(type(my_set))"
   ]
  },
  {
   "cell_type": "code",
   "execution_count": null,
   "id": "8c8e0f26",
   "metadata": {},
   "outputs": [],
   "source": []
  },
  {
   "cell_type": "code",
   "execution_count": null,
   "id": "4180a97a",
   "metadata": {},
   "outputs": [],
   "source": []
  }
 ],
 "metadata": {
  "kernelspec": {
   "display_name": "Python 3",
   "language": "python",
   "name": "python3"
  },
  "language_info": {
   "codemirror_mode": {
    "name": "ipython",
    "version": 3
   },
   "file_extension": ".py",
   "mimetype": "text/x-python",
   "name": "python",
   "nbconvert_exporter": "python",
   "pygments_lexer": "ipython3",
   "version": "3.10.10"
  }
 },
 "nbformat": 4,
 "nbformat_minor": 5
}
