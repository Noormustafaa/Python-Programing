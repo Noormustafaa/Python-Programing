{
 "cells": [
  {
   "cell_type": "code",
   "execution_count": 11,
   "id": "9f91a3c8",
   "metadata": {},
   "outputs": [
    {
     "name": "stdout",
     "output_type": "stream",
     "text": [
      "[94, 31.3, 22, 11]\n",
      "<class 'list'>\n",
      "22\n",
      "['Noor', 23, 'Sukkur']\n",
      "N\n",
      "['Musavir', 23, 'Sukkur']\n"
     ]
    }
   ],
   "source": [
    "#List in python \n",
    "# it as a Built-in data type that stores set of values\n",
    "marks=[94,31.3,22,11] # we can add many values as per our wish\n",
    "print(marks)\n",
    "print(type(marks))\n",
    "  \n",
    "  # same as array it has also index concept and we can easily acces any element \n",
    "print(marks[2]) # like this\n",
    "\n",
    "# note in other languages we store values in array with the same data type \n",
    "# but in python we can store different types together example\n",
    "mark1=[\"Noor\",23,\"Sukkur\"]\n",
    "print(mark1)\n",
    "\n",
    "\n",
    "# in Python Strings Are immutable and Lists are mutable\n",
    "# mutable means change \n",
    "# example of String\n",
    "str = \"Noor\"\n",
    "print(str[0])\n",
    "# str[0] = \"m\" # this is not possible in String\n",
    "\n",
    "# but in list it is Possible\n",
    "mark1[0]=\"Musavir\"\n",
    "print(mark1)\n"
   ]
  },
  {
   "cell_type": "code",
   "execution_count": 14,
   "id": "3a1cdf20",
   "metadata": {},
   "outputs": [
    {
     "name": "stdout",
     "output_type": "stream",
     "text": [
      "[2, 3, 4, 5, 'Noor']\n"
     ]
    }
   ],
   "source": [
    "#List  Slicing  same syntax as String\n",
    "mrk=[1,2,3,4,5,\"Noor\"]\n",
    "print(mrk[1:6]) "
   ]
  },
  {
   "cell_type": "code",
   "execution_count": 18,
   "id": "b14fb952",
   "metadata": {},
   "outputs": [
    {
     "name": "stdout",
     "output_type": "stream",
     "text": [
      "None\n",
      "None\n",
      "[1, 2, 3, 5]\n"
     ]
    }
   ],
   "source": [
    "# Functions in List \n",
    "list =[2,1,3]\n",
    "print(list.append(5)) # it will give the output as none because append function does not return any value\n",
    "print(list.sort()) # it will give the output as none because sort function does not return any value\n",
    "print(list)\n"
   ]
  },
  {
   "cell_type": "code",
   "execution_count": null,
   "id": "0dc9fb11",
   "metadata": {},
   "outputs": [],
   "source": [
    "# some other methods also exist in list"
   ]
  },
  {
   "cell_type": "code",
   "execution_count": null,
   "id": "449a29d9",
   "metadata": {},
   "outputs": [],
   "source": [
    "# Tuples\n",
    "# it is  a Built-in data type that lets us Create immutable sequence of values \n",
    "#that's the major differnce list is mutable while tupple are immutable"
   ]
  },
  {
   "cell_type": "code",
   "execution_count": 28,
   "id": "2457e1d7",
   "metadata": {},
   "outputs": [
    {
     "name": "stdout",
     "output_type": "stream",
     "text": [
      "64\n",
      "()\n",
      "(3,)\n",
      "<class 'tuple'>\n",
      "<class 'int'>\n",
      "<class 'tuple'>\n",
      "(2, 3, 4)\n"
     ]
    }
   ],
   "source": [
    "tup=(87,64,33,95,76) # just the difference in sytax is we use here peranthisis\n",
    "print(tup[1]) # accessing the element from the tupple\n",
    "# tup[0]=9 # this is not possible \n",
    "\n",
    "\n",
    "#Creating empty tuple\n",
    "tuple =()\n",
    "print(tuple)\n",
    "\n",
    "# whenever we just put 1 element in tuple we have to place it with comma like\n",
    "\n",
    "tuple1=(3,)\n",
    "print(tuple1)\n",
    "print(type(tuple1))\n",
    "\n",
    "\n",
    "# if we will not septrate it with comma otherwise it will understand as this to integere example\n",
    "tuple2=(4)\n",
    "print(type(tuple2))\n",
    "\n",
    "\n",
    "# but if we will create the multiple elements then no need to use comma in last , it will consider as tuple \n",
    "#without comma \n",
    "tuple4=(2,3,4,) # if you give comma in last or not its not matter output will show as tupple type\n",
    "print(type(tuple4))\n",
    "print(tuple4)"
   ]
  },
  {
   "cell_type": "code",
   "execution_count": null,
   "id": "203e8317",
   "metadata": {},
   "outputs": [],
   "source": [
    "# slicing in tupple same as string and list "
   ]
  },
  {
   "cell_type": "code",
   "execution_count": null,
   "id": "07d19e7c",
   "metadata": {},
   "outputs": [],
   "source": []
  },
  {
   "cell_type": "code",
   "execution_count": null,
   "id": "e0a8cc46",
   "metadata": {},
   "outputs": [],
   "source": []
  }
 ],
 "metadata": {
  "kernelspec": {
   "display_name": "Python 3",
   "language": "python",
   "name": "python3"
  },
  "language_info": {
   "codemirror_mode": {
    "name": "ipython",
    "version": 3
   },
   "file_extension": ".py",
   "mimetype": "text/x-python",
   "name": "python",
   "nbconvert_exporter": "python",
   "pygments_lexer": "ipython3",
   "version": "3.10.10"
  }
 },
 "nbformat": 4,
 "nbformat_minor": 5
}
