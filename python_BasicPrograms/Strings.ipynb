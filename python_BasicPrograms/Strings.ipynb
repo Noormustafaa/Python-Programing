{
 "cells": [
  {
   "cell_type": "code",
   "execution_count": 3,
   "id": "9ee29427",
   "metadata": {},
   "outputs": [
    {
     "name": "stdout",
     "output_type": "stream",
     "text": [
      "This is Noor, and i belong to rajpar family\n",
      "This is Noor.\n",
      "and i belong to rajpar family\n"
     ]
    }
   ],
   "source": [
    "# String is the Data Type Which Store the Sequence of Characters\n",
    "\n",
    "str1=\"this is a String.\"\n",
    "\n",
    "#with Single Quote also possible\n",
    "\n",
    "str2 = 'this is String with Single Quote'\n",
    "\n",
    "\n",
    "\n",
    "#escape sequence characters  we use these for making String in Next Line\n",
    "# These Are special Charaters used for formating\n",
    "\n",
    "# ex\n",
    "str3=\"This is Noor, and i belong to rajpar family\"\n",
    "print(str3)# it will print in one line\n",
    "\n",
    "# for next line \\n\n",
    "str4=\"This is Noor.\\nand i belong to rajpar family\"\n",
    "\n",
    "\n",
    "print(str4)\n",
    "\n"
   ]
  },
  {
   "cell_type": "code",
   "execution_count": 5,
   "id": "37293088",
   "metadata": {},
   "outputs": [
    {
     "name": "stdout",
     "output_type": "stream",
     "text": [
      "NoorMustafa\n"
     ]
    }
   ],
   "source": [
    "# String Concetitaion\n",
    "\n",
    "name=\"Noor\"\n",
    "Lastname=\"Mustafa\"\n",
    "\n",
    "sum= name+Lastname\n",
    "print(sum)\n"
   ]
  },
  {
   "cell_type": "code",
   "execution_count": 22,
   "id": "c6ecf89a",
   "metadata": {},
   "outputs": [
    {
     "name": "stdout",
     "output_type": "stream",
     "text": [
      "4\n",
      "N\n",
      "r\n",
      "Noor\n"
     ]
    }
   ],
   "source": [
    "str= \"Noor\"\n",
    "print(len(str))\n",
    "\n",
    "ch= str[0]\n",
    "print(ch)\n",
    "\n",
    "\n",
    "#Note In Index form we can just access the element but not the manuplate like example\n",
    "\n",
    "name1=\"Noor\"\n",
    "ch =name1[3]\n",
    "print(ch)\n",
    "#name1[4]=\"M\" #here i can add value \n",
    "print(name1)"
   ]
  },
  {
   "cell_type": "code",
   "execution_count": 33,
   "id": "9c844776",
   "metadata": {},
   "outputs": [
    {
     "name": "stdout",
     "output_type": "stream",
     "text": [
      "pd\n",
      "['Mustafa']\n"
     ]
    }
   ],
   "source": [
    "# Slicing  Means accessing the part of a String\n",
    "#ex\n",
    "str=\"Npdr\" \n",
    "# Note last index not inluded like\n",
    "print (str[1:3])\n",
    "\n",
    "str1=\"Mustafa\"\n",
    "print([str1[0:]])\n"
   ]
  },
  {
   "cell_type": "code",
   "execution_count": 7,
   "id": "e09be8ed",
   "metadata": {},
   "outputs": [
    {
     "name": "stdout",
     "output_type": "stream",
     "text": [
      "e\n",
      "l\n",
      "Appl\n",
      "Apple\n"
     ]
    }
   ],
   "source": [
    "#Slicing Negative Index\n",
    "# its last indext is -1   Ex A  p  p   l    e\n",
    "                        #   -5 -4 -3  -2  -1\n",
    "str=\"Apple\"\n",
    "print(str[-1])\n",
    "print(str[-2])\n",
    "print(str[-5:-1])\n",
    "print(str[-5:])\n",
    "\n"
   ]
  },
  {
   "cell_type": "code",
   "execution_count": null,
   "id": "760ac835",
   "metadata": {},
   "outputs": [
    {
     "name": "stdout",
     "output_type": "stream",
     "text": [
      "True\n"
     ]
    }
   ],
   "source": [
    "#String Functions\n",
    "\n",
    "str=\"Noor\"\n",
    "print(str.endswith(\"or\"))"
   ]
  },
  {
   "cell_type": "code",
   "execution_count": 10,
   "id": "252805e3",
   "metadata": {},
   "outputs": [
    {
     "name": "stdout",
     "output_type": "stream",
     "text": [
      "Noor\n"
     ]
    }
   ],
   "source": [
    "#.capitalize() method  it will make first char as a capital\n",
    "str=\"noor\"\n",
    "print(str.capitalize())"
   ]
  },
  {
   "cell_type": "code",
   "execution_count": 11,
   "id": "e979fb2b",
   "metadata": {},
   "outputs": [
    {
     "name": "stdout",
     "output_type": "stream",
     "text": [
      "Noor\n"
     ]
    }
   ],
   "source": [
    "#.replace(old,new)  replaces all occurances of old\n",
    "str=\"Mustafa\"\n",
    "print(str.replace(\"Mustafa\",\"Noor\"))\n",
    "\n"
   ]
  },
  {
   "cell_type": "code",
   "execution_count": 12,
   "id": "6e007b6d",
   "metadata": {},
   "outputs": [
    {
     "name": "stdout",
     "output_type": "stream",
     "text": [
      "3\n"
     ]
    }
   ],
   "source": [
    "#.find(word)\n",
    "str=\"Noor\"\n",
    "print(str.find(\"r\"))"
   ]
  }
 ],
 "metadata": {
  "kernelspec": {
   "display_name": "Python 3",
   "language": "python",
   "name": "python3"
  },
  "language_info": {
   "codemirror_mode": {
    "name": "ipython",
    "version": 3
   },
   "file_extension": ".py",
   "mimetype": "text/x-python",
   "name": "python",
   "nbconvert_exporter": "python",
   "pygments_lexer": "ipython3",
   "version": "3.10.10"
  }
 },
 "nbformat": 4,
 "nbformat_minor": 5
}
