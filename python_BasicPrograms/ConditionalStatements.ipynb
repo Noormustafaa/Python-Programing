{
 "cells": [
  {
   "cell_type": "code",
   "execution_count": null,
   "id": "b901534c",
   "metadata": {},
   "outputs": [],
   "source": [
    "# if-elif-else(Syntax)"
   ]
  },
  {
   "cell_type": "code",
   "execution_count": 8,
   "metadata": {},
   "outputs": [
    {
     "name": "stdout",
     "output_type": "stream",
     "text": [
      "Not Eligble\n"
     ]
    }
   ],
   "source": [
    "age=16\n",
    "if(age>16):\n",
    "    print(\"eligible\")  # Next Line will be started with tab space or 4 spaces\n",
    "elif(age==1):\n",
    "    print(\"eligble\")\n",
    "else:                    # in else we dont check any condition\n",
    "    print(\"Not Eligble\")\n",
    "    \n"
   ]
  },
  {
   "cell_type": "code",
   "execution_count": 7,
   "id": "83f4c4b5",
   "metadata": {},
   "outputs": [
    {
     "name": "stdout",
     "output_type": "stream",
     "text": [
      "Greater than 2\n"
     ]
    }
   ],
   "source": [
    "num=5\n",
    "if(num>2):\n",
    "    print(\"Greater than 2\")\n",
    "elif(num>4):\n",
    "    print(\"Greater than 4\")\n"
   ]
  },
  {
   "cell_type": "code",
   "execution_count": null,
   "id": "0c49b212",
   "metadata": {},
   "outputs": [],
   "source": []
  },
  {
   "cell_type": "code",
   "execution_count": null,
   "id": "2091dccc",
   "metadata": {},
   "outputs": [],
   "source": []
  },
  {
   "cell_type": "code",
   "execution_count": null,
   "id": "68a36e08",
   "metadata": {},
   "outputs": [],
   "source": []
  }
 ],
 "metadata": {
  "kernelspec": {
   "display_name": "Python 3",
   "language": "python",
   "name": "python3"
  },
  "language_info": {
   "codemirror_mode": {
    "name": "ipython",
    "version": 3
   },
   "file_extension": ".py",
   "mimetype": "text/x-python",
   "name": "python",
   "nbconvert_exporter": "python",
   "pygments_lexer": "ipython3",
   "version": "3.10.10"
  }
 },
 "nbformat": 4,
 "nbformat_minor": 5
}
