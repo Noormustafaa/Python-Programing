{
 "cells": [
  {
   "cell_type": "code",
   "execution_count": null,
   "id": "735a58b7",
   "metadata": {},
   "outputs": [
    {
     "name": "stdout",
     "output_type": "stream",
     "text": [
      "Noor\n",
      "<class 'str'>\n"
     ]
    }
   ],
   "source": [
    "#for input we use #input() function example\n",
    "\n",
    "a=input(\"Inter Any Data Type\")\n",
    "print(a) \n",
    "print(type(a)) # Note Input convert all data types values in String "
   ]
  },
  {
   "cell_type": "code",
   "execution_count": 3,
   "id": "83966fc2",
   "metadata": {},
   "outputs": [
    {
     "name": "stdout",
     "output_type": "stream",
     "text": [
      "7\n"
     ]
    }
   ],
   "source": [
    "a=int(input(\"Enter_Your_First_Number\"))\n",
    "b=int(input(\"Enter_Your_Second_Number\"))\n",
    "\n",
    "sum=a+b\n",
    "print(sum)"
   ]
  },
  {
   "cell_type": "code",
   "execution_count": null,
   "id": "ec8b230a",
   "metadata": {},
   "outputs": [],
   "source": []
  },
  {
   "cell_type": "code",
   "execution_count": null,
   "id": "b8423514",
   "metadata": {},
   "outputs": [],
   "source": []
  }
 ],
 "metadata": {
  "kernelspec": {
   "display_name": "Python 3",
   "language": "python",
   "name": "python3"
  },
  "language_info": {
   "codemirror_mode": {
    "name": "ipython",
    "version": 3
   },
   "file_extension": ".py",
   "mimetype": "text/x-python",
   "name": "python",
   "nbconvert_exporter": "python",
   "pygments_lexer": "ipython3",
   "version": "3.10.10"
  }
 },
 "nbformat": 4,
 "nbformat_minor": 5
}
