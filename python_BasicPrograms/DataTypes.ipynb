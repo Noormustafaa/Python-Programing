{
 "cells": [
  {
   "cell_type": "code",
   "execution_count": null,
   "id": "fe277fa2",
   "metadata": {},
   "outputs": [],
   "source": [
    "#Core DataTypes Integers , String , Float, Boolean , None"
   ]
  },
  {
   "cell_type": "code",
   "execution_count": 2,
   "id": "95045ebf",
   "metadata": {},
   "outputs": [
    {
     "name": "stdout",
     "output_type": "stream",
     "text": [
      "noor   noor\n"
     ]
    }
   ],
   "source": [
    "#Note String can be write down in sigle quote , double, or tripple\n",
    "\n",
    "name=\"noor\"\n",
    "name1='noor'\n",
    "print(name,\" \", name1)"
   ]
  },
  {
   "cell_type": "code",
   "execution_count": 3,
   "id": "053eff57",
   "metadata": {},
   "outputs": [
    {
     "name": "stdout",
     "output_type": "stream",
     "text": [
      "<class 'int'>\n",
      "<class 'NoneType'>\n"
     ]
    }
   ],
   "source": [
    "#None Means No Valid Value \n",
    "age =23\n",
    "name=None\n",
    "print(type(age))\n",
    "print(type(name))\n"
   ]
  },
  {
   "cell_type": "code",
   "execution_count": null,
   "id": "65b4a3cd",
   "metadata": {},
   "outputs": [],
   "source": []
  }
 ],
 "metadata": {
  "kernelspec": {
   "display_name": "Python 3",
   "language": "python",
   "name": "python3"
  },
  "language_info": {
   "codemirror_mode": {
    "name": "ipython",
    "version": 3
   },
   "file_extension": ".py",
   "mimetype": "text/x-python",
   "name": "python",
   "nbconvert_exporter": "python",
   "pygments_lexer": "ipython3",
   "version": "3.10.10"
  }
 },
 "nbformat": 4,
 "nbformat_minor": 5
}
