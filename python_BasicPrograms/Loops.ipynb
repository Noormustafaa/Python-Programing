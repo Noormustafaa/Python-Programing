{
 "cells": [
  {
   "cell_type": "code",
   "execution_count": null,
   "id": "418eeb15",
   "metadata": {},
   "outputs": [],
   "source": [
    "# loops are used to repeated instructions"
   ]
  },
  {
   "cell_type": "code",
   "execution_count": 5,
   "id": "351ddf9d",
   "metadata": {},
   "outputs": [
    {
     "name": "stdout",
     "output_type": "stream",
     "text": [
      "Noor\n",
      "Noor\n",
      "Noor\n",
      "Noor\n",
      "Noor\n",
      "Noor\n",
      "7\n"
     ]
    }
   ],
   "source": [
    "#while loop\n",
    "count =1\n",
    "while count<=6:\n",
    "    print(\"Noor\")\n",
    "    count=count+1\n",
    "\n",
    "\n",
    "print(count)   "
   ]
  },
  {
   "cell_type": "code",
   "execution_count": 6,
   "id": "36920ad9",
   "metadata": {},
   "outputs": [
    {
     "name": "stdout",
     "output_type": "stream",
     "text": [
      "1\n",
      "2\n",
      "3\n",
      "4\n",
      "5\n",
      "6\n",
      "7\n",
      "8\n",
      "9\n",
      "10\n",
      "11\n",
      "12\n",
      "13\n",
      "14\n",
      "15\n",
      "16\n",
      "17\n",
      "18\n",
      "19\n",
      "20\n",
      "21\n",
      "22\n",
      "23\n",
      "24\n",
      "25\n",
      "26\n",
      "27\n",
      "28\n",
      "29\n",
      "30\n",
      "31\n",
      "32\n",
      "33\n",
      "34\n",
      "35\n",
      "36\n",
      "37\n",
      "38\n",
      "39\n",
      "40\n",
      "41\n",
      "42\n",
      "43\n",
      "44\n",
      "45\n",
      "46\n",
      "47\n",
      "48\n",
      "49\n",
      "50\n",
      "51\n",
      "52\n",
      "53\n",
      "54\n",
      "55\n",
      "56\n",
      "57\n",
      "58\n",
      "59\n",
      "60\n",
      "61\n",
      "62\n",
      "63\n",
      "64\n",
      "65\n",
      "66\n",
      "67\n",
      "68\n",
      "69\n",
      "70\n",
      "71\n",
      "72\n",
      "73\n",
      "74\n",
      "75\n",
      "76\n",
      "77\n",
      "78\n",
      "79\n",
      "80\n",
      "81\n",
      "82\n",
      "83\n",
      "84\n",
      "85\n",
      "86\n",
      "87\n",
      "88\n",
      "89\n",
      "90\n",
      "91\n",
      "92\n",
      "93\n",
      "94\n",
      "95\n",
      "96\n",
      "97\n",
      "98\n",
      "99\n",
      "100\n"
     ]
    }
   ],
   "source": [
    "# program 1 Print number 1 to 100 using while loop\n",
    "count =1\n",
    "while count<=100:\n",
    "    print(count)\n",
    "    count=count+1"
   ]
  },
  {
   "cell_type": "code",
   "execution_count": 23,
   "id": "d4540e08",
   "metadata": {},
   "outputs": [
    {
     "name": "stdout",
     "output_type": "stream",
     "text": [
      "<class 'int'>\n",
      "6   1  =  6\n",
      "6   2  =  12\n",
      "6   3  =  18\n",
      "6   4  =  24\n",
      "6   5  =  30\n",
      "6   6  =  36\n",
      "6   7  =  42\n",
      "6   8  =  48\n",
      "6   9  =  54\n",
      "6   10  =  60\n"
     ]
    }
   ],
   "source": [
    "n=int(input(\"input any number for creating its table\"))\n",
    "print(type(n))\n",
    "num=1\n",
    "while num<=10:\n",
    "      print(n, \" \" , num , \" = \" , num*n)\n",
    "      num=num+1"
   ]
  },
  {
   "cell_type": "code",
   "execution_count": 22,
   "id": "3823df79",
   "metadata": {},
   "outputs": [
    {
     "name": "stdout",
     "output_type": "stream",
     "text": [
      "<class 'int'>\n",
      "3    1  =  3\n",
      "3    2  =  6\n",
      "3    3  =  9\n",
      "3    4  =  12\n",
      "3    5  =  15\n",
      "3    6  =  18\n",
      "3    7  =  21\n",
      "3    8  =  24\n",
      "3    9  =  27\n",
      "3    10  =  30\n"
     ]
    }
   ],
   "source": [
    "# Program 2 print the Multiplicaion table of the number n\n",
    "n=int(input(\"input any number for creating its table\"))\n",
    "print(type(n))\n",
    "num=1\n",
    "while num<=10:\n",
    "    print(n , \"  \" , num , \" = \", num*n)\n",
    "    num=num+1"
   ]
  },
  {
   "cell_type": "code",
   "execution_count": 29,
   "id": "f1251031",
   "metadata": {},
   "outputs": [
    {
     "name": "stdout",
     "output_type": "stream",
     "text": [
      "5  This is total length \n",
      "2\n",
      "3\n",
      "5\n",
      "6\n",
      "7\n"
     ]
    }
   ],
   "source": [
    "num=[2,3,5,6,7]\n",
    "print(len(num),\" This is total length \")\n",
    "idx=0\n",
    "while idx<len(num):\n",
    "    print(num[idx])\n",
    "    idx=idx+1\n"
   ]
  },
  {
   "cell_type": "code",
   "execution_count": null,
   "id": "b11c0274",
   "metadata": {},
   "outputs": [],
   "source": [
    "# break\n",
    "# used to terminate the loop when encountered \n",
    "# Continue : terminates execution in the current iteration and continues execution  of the loop with the next \n",
    "# iteration"
   ]
  },
  {
   "cell_type": "code",
   "execution_count": 31,
   "id": "37d98074",
   "metadata": {},
   "outputs": [
    {
     "name": "stdout",
     "output_type": "stream",
     "text": [
      "1\n",
      "2\n",
      "4\n",
      "5\n",
      "6\n",
      "7\n"
     ]
    }
   ],
   "source": [
    "# for loop\n",
    "num=[1,2,4,5,6,7]\n",
    "for val in num:\n",
    "    print(val)\n"
   ]
  },
  {
   "cell_type": "code",
   "execution_count": 37,
   "id": "9e2ca6da",
   "metadata": {},
   "outputs": [
    {
     "name": "stdout",
     "output_type": "stream",
     "text": [
      "Value Does not exist\n"
     ]
    }
   ],
   "source": [
    "# Searching element from string using loop \n",
    "str=\"NrMustafa\"\n",
    "for char in str:\n",
    "    if(char=='o'):\n",
    "        print(\"o Found\")\n",
    "    else:\n",
    "        print(\"Value Does not exist\")\n",
    "        break\n",
    "\n",
    "      "
   ]
  },
  {
   "cell_type": "code",
   "execution_count": null,
   "id": "1e1d7420",
   "metadata": {},
   "outputs": [],
   "source": []
  },
  {
   "cell_type": "code",
   "execution_count": null,
   "id": "4cb83a7e",
   "metadata": {},
   "outputs": [],
   "source": []
  }
 ],
 "metadata": {
  "kernelspec": {
   "display_name": "Python 3",
   "language": "python",
   "name": "python3"
  },
  "language_info": {
   "codemirror_mode": {
    "name": "ipython",
    "version": 3
   },
   "file_extension": ".py",
   "mimetype": "text/x-python",
   "name": "python",
   "nbconvert_exporter": "python",
   "pygments_lexer": "ipython3",
   "version": "3.10.10"
  }
 },
 "nbformat": 4,
 "nbformat_minor": 5
}
